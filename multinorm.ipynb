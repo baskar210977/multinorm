{
 "cells": [
  {
   "cell_type": "markdown",
   "metadata": {},
   "source": [
    "# MultiNorm\n",
    "\n",
    "This is a tutorial notebook for the ``MultiNorm`` class from the ``multinorm`` Python package ([Github](https://github.com/cdeil/multinorm)).\n",
    "\n",
    "- A quick tutorial introduction (~ 5 min read)\n",
    "- Explain and illustrate some of the theory / statistical aspects\n",
    "- Hands-on introduction how to work with ``MultiNorm`` class.\n",
    "\n",
    "Suggestions:\n",
    "\n",
    "- Read this tutorial and judge if `multinorm` is useful for you.\n",
    "- If yes, install it with `pip install multinorm`, download this notebook, and execute / play with these examples on your machine.\n",
    "- Learn more at https://multinorm.readthedocs.io (complete description of features and theory)."
   ]
  },
  {
   "cell_type": "markdown",
   "metadata": {},
   "source": [
    "## Introduction\n",
    "\n",
    "- TODO: What is MVN (theory)?\n",
    "- https://en.wikipedia.org/wiki/Multivariate_normal_distribution\n",
    "- TODO: What is `MultiNorm` (code)?"
   ]
  },
  {
   "cell_type": "markdown",
   "metadata": {},
   "source": [
    "## Example\n",
    "\n",
    "TODO: Fit with scipy, analyse fit result with `MultiNorm`."
   ]
  },
  {
   "cell_type": "code",
   "execution_count": 1,
   "metadata": {},
   "outputs": [],
   "source": [
    "from multinorm import MultiNorm"
   ]
  },
  {
   "cell_type": "code",
   "execution_count": 2,
   "metadata": {},
   "outputs": [],
   "source": [
    "from multinorm import MultiNorm\n",
    "mean = [10, 20, 30]\n",
    "covariance = [[1, 0, 0], [0, 4, 0], [0, 0, 9]]\n",
    "names = [\"a\", \"b\", \"c\"]\n",
    "mn = MultiNorm(mean, covariance, names)"
   ]
  },
  {
   "cell_type": "code",
   "execution_count": 3,
   "metadata": {},
   "outputs": [
    {
     "data": {
      "text/html": [
       "<div>\n",
       "<style scoped>\n",
       "    .dataframe tbody tr th:only-of-type {\n",
       "        vertical-align: middle;\n",
       "    }\n",
       "\n",
       "    .dataframe tbody tr th {\n",
       "        vertical-align: top;\n",
       "    }\n",
       "\n",
       "    .dataframe thead th {\n",
       "        text-align: right;\n",
       "    }\n",
       "</style>\n",
       "<table border=\"1\" class=\"dataframe\">\n",
       "  <thead>\n",
       "    <tr style=\"text-align: right;\">\n",
       "      <th></th>\n",
       "      <th>mean</th>\n",
       "      <th>err</th>\n",
       "    </tr>\n",
       "    <tr>\n",
       "      <th>name</th>\n",
       "      <th></th>\n",
       "      <th></th>\n",
       "    </tr>\n",
       "  </thead>\n",
       "  <tbody>\n",
       "    <tr>\n",
       "      <th>a</th>\n",
       "      <td>10.0</td>\n",
       "      <td>1.0</td>\n",
       "    </tr>\n",
       "    <tr>\n",
       "      <th>b</th>\n",
       "      <td>20.0</td>\n",
       "      <td>2.0</td>\n",
       "    </tr>\n",
       "    <tr>\n",
       "      <th>c</th>\n",
       "      <td>30.0</td>\n",
       "      <td>3.0</td>\n",
       "    </tr>\n",
       "  </tbody>\n",
       "</table>\n",
       "</div>"
      ],
      "text/plain": [
       "      mean  err\n",
       "name           \n",
       "a     10.0  1.0\n",
       "b     20.0  2.0\n",
       "c     30.0  3.0"
      ]
     },
     "execution_count": 3,
     "metadata": {},
     "output_type": "execute_result"
    }
   ],
   "source": [
    "mn.pandas_summary"
   ]
  },
  {
   "cell_type": "code",
   "execution_count": 7,
   "metadata": {},
   "outputs": [
    {
     "name": "stdout",
     "output_type": "stream",
     "text": [
      "      mean  err\n",
      "name           \n",
      "a     10.0  1.0\n",
      "b     20.0  2.0\n"
     ]
    },
    {
     "data": {
      "image/png": "[encoded data removed]",
      "text/plain": [
       "<Figure size 432x288 with 1 Axes>"
      ]
     },
     "metadata": {
      "needs_background": "light"
     },
     "output_type": "display_data"
    }
   ],
   "source": [
    "mn2 = mn.marginal([\"a\", \"b\"])\n",
    "print(mn2.pandas_summary)\n",
    "\n",
    "import matplotlib.pyplot as plt\n",
    "fig, ax = plt.subplots(subplot_kw={'aspect': 'equal'})\n",
    "ellipse = mn2.to_matplotlib_ellipse()\n",
    "ax.add_artist(ellipse)\n",
    "ax.set_xlim(7, 13)\n",
    "ax.set_xlabel(\"a\")\n",
    "ax.set_ylabel(\"b\")\n",
    "ax.set_ylim(17, 23)\n",
    "ax.grid(True)\n",
    "plt.show()"
   ]
  },
  {
   "cell_type": "markdown",
   "metadata": {},
   "source": [
    "## Summary\n",
    "\n",
    "Let us recap the most important points concerning multivariante normal distributions and the `MultiNorm` class.\n",
    "\n",
    "To learn more: https://multinorm.readthedocs.io\n",
    "\n",
    "### Theory\n",
    "\n",
    "- TODO: MVN are ...\n",
    "\n",
    "### Code\n",
    "\n",
    "- TODO: the `MultiNorm` class ..."
   ]
  },
  {
   "cell_type": "markdown",
   "metadata": {},
   "source": [
    "## Exercises\n",
    "\n",
    "- TODO"
   ]
  },
  {
   "cell_type": "code",
   "execution_count": null,
   "metadata": {},
   "outputs": [],
   "source": []
  }
 ],
 "metadata": {
  "kernelspec": {
   "display_name": "Python 3",
   "language": "python",
   "name": "python3"
  },
  "language_info": {
   "codemirror_mode": {
    "name": "ipython",
    "version": 3
   },
   "file_extension": ".py",
   "mimetype": "text/x-python",
   "name": "python",
   "nbconvert_exporter": "python",
   "pygments_lexer": "ipython3",
   "version": "3.7.0"
  }
 },
 "nbformat": 4,
 "nbformat_minor": 2
}
